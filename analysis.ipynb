{
 "cells": [
  {
   "cell_type": "code",
   "execution_count": 3,
   "metadata": {},
   "outputs": [],
   "source": [
    "from run import Run"
   ]
  },
  {
   "cell_type": "code",
   "execution_count": 4,
   "metadata": {},
   "outputs": [
    {
     "name": "stdout",
     "output_type": "stream",
     "text": [
      "https://services.nvd.nist.gov/rest/json/cves/1.0/?pubStartDate=2014-01-01T00:00:00:000%20UTC-00:00&pubEndDate=2014-05-01T00:00:00:000%20UTC-00:00&resultsPerPage=2000\n",
      "starting at: 2000 /2205\n",
      "https://services.nvd.nist.gov/rest/json/cves/1.0/?pubStartDate=2014-01-01T00:00:00:000%20UTC-00:00&pubEndDate=2014-05-01T00:00:00:000%20UTC-00:00&startIndex=2000&resultsPerPage=2000\n",
      "1 harvested : 2205 /2205 \n"
     ]
    },
    {
     "ename": "TypeError",
     "evalue": "'NoneType' object is not iterable",
     "output_type": "error",
     "traceback": [
      "\u001b[0;31m---------------------------------------------------------------------------\u001b[0m",
      "\u001b[0;31mTypeError\u001b[0m                                 Traceback (most recent call last)",
      "\u001b[1;32m/home/potz/Code/tenable/tech_challenge/analysis.ipynb Cell 2'\u001b[0m in \u001b[0;36m<module>\u001b[0;34m\u001b[0m\n\u001b[0;32m----> <a href='vscode-notebook-cell:/home/potz/Code/tenable/tech_challenge/analysis.ipynb#ch0000001?line=0'>1</a>\u001b[0m mainObj \u001b[39m=\u001b[39m Run(collection\u001b[39m=\u001b[39;49m\u001b[39m'\u001b[39;49m\u001b[39mt2\u001b[39;49m\u001b[39m'\u001b[39;49m)\u001b[39m.\u001b[39;49mfill_mongo()\n",
      "File \u001b[0;32m~/Code/tenable/tech_challenge/run.py:38\u001b[0m, in \u001b[0;36mRun.fill_mongo\u001b[0;34m(self, from_)\u001b[0m\n\u001b[1;32m     <a href='file:///home/potz/Code/tenable/tech_challenge/run.py?line=35'>36</a>\u001b[0m     json_list \u001b[39m=\u001b[39m api\u001b[39m.\u001b[39mtime(from_)\u001b[39m.\u001b[39mresultsPerPage(\u001b[39m2000\u001b[39m)\u001b[39m.\u001b[39mget()\n\u001b[1;32m     <a href='file:///home/potz/Code/tenable/tech_challenge/run.py?line=36'>37</a>\u001b[0m     from_ \u001b[39m=\u001b[39m api\u001b[39m.\u001b[39mend_date\n\u001b[0;32m---> <a href='file:///home/potz/Code/tenable/tech_challenge/run.py?line=37'>38</a>\u001b[0m     \u001b[39mself\u001b[39;49m\u001b[39m.\u001b[39;49mdb\u001b[39m.\u001b[39;49minsert(json_list)\n\u001b[1;32m     <a href='file:///home/potz/Code/tenable/tech_challenge/run.py?line=38'>39</a>\u001b[0m     time\u001b[39m.\u001b[39msleep(\u001b[39m1\u001b[39m)\n\u001b[1;32m     <a href='file:///home/potz/Code/tenable/tech_challenge/run.py?line=40'>41</a>\u001b[0m \u001b[39mreturn\u001b[39;00m \u001b[39mself\u001b[39m\n",
      "File \u001b[0;32m~/Code/tenable/tech_challenge/mongo_.py:14\u001b[0m, in \u001b[0;36mMongoDB.insert\u001b[0;34m(self, json_list)\u001b[0m\n\u001b[1;32m     <a href='file:///home/potz/Code/tenable/tech_challenge/mongo_.py?line=9'>10</a>\u001b[0m \u001b[39mdef\u001b[39;00m \u001b[39minsert\u001b[39m(\u001b[39mself\u001b[39m, json_list):\n\u001b[1;32m     <a href='file:///home/potz/Code/tenable/tech_challenge/mongo_.py?line=11'>12</a>\u001b[0m     result_dict \u001b[39m=\u001b[39m{\u001b[39m'\u001b[39m\u001b[39mT\u001b[39m\u001b[39m'\u001b[39m:\u001b[39m0\u001b[39m,\u001b[39m'\u001b[39m\u001b[39mF\u001b[39m\u001b[39m'\u001b[39m:\u001b[39m0\u001b[39m}\n\u001b[0;32m---> <a href='file:///home/potz/Code/tenable/tech_challenge/mongo_.py?line=13'>14</a>\u001b[0m     \u001b[39mfor\u001b[39;00m json \u001b[39min\u001b[39;00m json_list: \n\u001b[1;32m     <a href='file:///home/potz/Code/tenable/tech_challenge/mongo_.py?line=14'>15</a>\u001b[0m         filter_ \u001b[39m=\u001b[39m {\u001b[39m'\u001b[39m\u001b[39m_id\u001b[39m\u001b[39m'\u001b[39m: json[\u001b[39m'\u001b[39m\u001b[39mcve\u001b[39m\u001b[39m'\u001b[39m][\u001b[39m'\u001b[39m\u001b[39mCVE_data_meta\u001b[39m\u001b[39m'\u001b[39m][\u001b[39m'\u001b[39m\u001b[39mID\u001b[39m\u001b[39m'\u001b[39m] }\n\u001b[1;32m     <a href='file:///home/potz/Code/tenable/tech_challenge/mongo_.py?line=15'>16</a>\u001b[0m         update \u001b[39m=\u001b[39m {\u001b[39m\"\u001b[39m\u001b[39m$set\u001b[39m\u001b[39m\"\u001b[39m:json}\n",
      "\u001b[0;31mTypeError\u001b[0m: 'NoneType' object is not iterable"
     ]
    }
   ],
   "source": [
    "mainObj = Run(collection='t2').fill_mongo()\n"
   ]
  },
  {
   "cell_type": "code",
   "execution_count": 9,
   "metadata": {},
   "outputs": [
    {
     "ename": "TypeError",
     "evalue": "'<' not supported between instances of 'int' and 'datetime.datetime'",
     "output_type": "error",
     "traceback": [
      "\u001b[0;31m---------------------------------------------------------------------------\u001b[0m",
      "\u001b[0;31mTypeError\u001b[0m                                 Traceback (most recent call last)",
      "\u001b[1;32m/home/potz/Code/tenable/tech_challenge/analysis.ipynb Cell 3'\u001b[0m in \u001b[0;36m<module>\u001b[0;34m\u001b[0m\n\u001b[0;32m----> <a href='vscode-notebook-cell:/home/potz/Code/tenable/tech_challenge/analysis.ipynb#ch0000005?line=0'>1</a>\u001b[0m mainObj\u001b[39m.\u001b[39;49mfill_mongo(\u001b[39m2014\u001b[39;49m)\n",
      "File \u001b[0;32m~/Code/tenable/tech_challenge/run.py:33\u001b[0m, in \u001b[0;36mRun.fill_mongo\u001b[0;34m(self, from_)\u001b[0m\n\u001b[1;32m     <a href='file:///home/potz/Code/tenable/tech_challenge/run.py?line=29'>30</a>\u001b[0m \u001b[39mdef\u001b[39;00m \u001b[39mfill_mongo\u001b[39m(\u001b[39mself\u001b[39m, from_ \u001b[39m=\u001b[39m dt\u001b[39m.\u001b[39mdatetime(\u001b[39m2014\u001b[39m,\u001b[39m1\u001b[39m,\u001b[39m1\u001b[39m,\u001b[39m0\u001b[39m)):\n\u001b[1;32m     <a href='file:///home/potz/Code/tenable/tech_challenge/run.py?line=30'>31</a>\u001b[0m     api\u001b[39m=\u001b[39m APIGet()\n\u001b[0;32m---> <a href='file:///home/potz/Code/tenable/tech_challenge/run.py?line=32'>33</a>\u001b[0m     \u001b[39mwhile\u001b[39;00m from_ \u001b[39m<\u001b[39;49m dt\u001b[39m.\u001b[39;49mdatetime\u001b[39m.\u001b[39;49mnow():\n\u001b[1;32m     <a href='file:///home/potz/Code/tenable/tech_challenge/run.py?line=33'>34</a>\u001b[0m         api\u001b[39m=\u001b[39m APIGet()\n\u001b[1;32m     <a href='file:///home/potz/Code/tenable/tech_challenge/run.py?line=34'>35</a>\u001b[0m         json_list \u001b[39m=\u001b[39m api\u001b[39m.\u001b[39mtime(from_)\u001b[39m.\u001b[39mresultsPerPage(\u001b[39m2000\u001b[39m)\u001b[39m.\u001b[39mget()\n",
      "\u001b[0;31mTypeError\u001b[0m: '<' not supported between instances of 'int' and 'datetime.datetime'"
     ]
    }
   ],
   "source": [
    "mainObj.fill_mongo(2014)"
   ]
  },
  {
   "cell_type": "code",
   "execution_count": 6,
   "metadata": {},
   "outputs": [],
   "source": [
    "dfs = Run().fill_df()\n",
    "dfV2,dfV3 = dfs.dfV2,dfs.dfV3"
   ]
  },
  {
   "cell_type": "code",
   "execution_count": 5,
   "metadata": {},
   "outputs": [
    {
     "ename": "AttributeError",
     "evalue": "'function' object has no attribute 'dfV2'",
     "output_type": "error",
     "traceback": [
      "\u001b[0;31m---------------------------------------------------------------------------\u001b[0m",
      "\u001b[0;31mAttributeError\u001b[0m                            Traceback (most recent call last)",
      "\u001b[1;32m/home/potz/Code/tenable/tech_challenge/analysis.ipynb Cell 3'\u001b[0m in \u001b[0;36m<module>\u001b[0;34m\u001b[0m\n\u001b[0;32m----> <a href='vscode-notebook-cell:/home/potz/Code/tenable/tech_challenge/analysis.ipynb#ch0000002?line=0'>1</a>\u001b[0m dfV2,dfV3 \u001b[39m=\u001b[39m dfs\u001b[39m.\u001b[39;49mdfV2,dfs\u001b[39m.\u001b[39mdfV3\n",
      "\u001b[0;31mAttributeError\u001b[0m: 'function' object has no attribute 'dfV2'"
     ]
    }
   ],
   "source": []
  },
  {
   "cell_type": "code",
   "execution_count": null,
   "metadata": {},
   "outputs": [],
   "source": []
  }
 ],
 "metadata": {
  "interpreter": {
   "hash": "31f2aee4e71d21fbe5cf8b01ff0e069b9275f58929596ceb00d14d90e3e16cd6"
  },
  "kernelspec": {
   "display_name": "Python 3.9.7 64-bit",
   "language": "python",
   "name": "python3"
  },
  "language_info": {
   "codemirror_mode": {
    "name": "ipython",
    "version": 3
   },
   "file_extension": ".py",
   "mimetype": "text/x-python",
   "name": "python",
   "nbconvert_exporter": "python",
   "pygments_lexer": "ipython3",
   "version": "3.9.7"
  },
  "orig_nbformat": 4
 },
 "nbformat": 4,
 "nbformat_minor": 2
}
