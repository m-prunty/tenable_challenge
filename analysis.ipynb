{
 "cells": [
  {
   "cell_type": "markdown",
   "metadata": {},
   "source": []
  },
  {
   "cell_type": "markdown",
   "metadata": {},
   "source": [
    "### Directions\n",
    "#### Complete Parts 1-3 below. \n",
    "\n",
    "We’ve estimated that this problem will take approx. five hours to complete. If you don't have time to finish that’s ok, just­ send what you have and explain what you planned on doing. We’re flexible on how you provide your work (e.g. link to GitHub repo, git bundle, zipped folder). Preference is for code to be written in Python. \n",
    "##### Data\n",
    "The data for this problem can be downloaded from here (JSON recommended). Note that CVE-Modified and CVE-Recent feeds are not required.\n",
    "\n",
    "\n"
   ]
  },
  {
   "cell_type": "code",
   "execution_count": 18,
   "metadata": {},
   "outputs": [],
   "source": [
    "import matplotlib\n",
    "\n",
    "from run import Run\n",
    "import pandas as pd"
   ]
  },
  {
   "cell_type": "code",
   "execution_count": 19,
   "metadata": {},
   "outputs": [],
   "source": [
    "#mainObj = Run(collection='t2').fill_mongo()\n"
   ]
  },
  {
   "cell_type": "markdown",
   "metadata": {},
   "source": [
    "### Part 1\n",
    "Explore the data to get a better understanding of the content\n",
    "\n",
    "### Guidance for Part 1\n",
    "- Create a Data frame with one row per CVE id\n",
    "- How many CVEs have CVSSv3 metrics versus only CVSSv2 metrics?\n",
    "- Both CVSSv2 and CVSSv3 have the same set of impact metrics, i.e. Confidentiality, Integrity and Availability, however their values are slightly different. For example, CVSSv2 uses complete (C) to represent the highest level of impact, but CVSSv3 uses high (H) instead. Is it possible to directly map from CVSSv2 impact metric values to CVSSv3?\n"
   ]
  },
  {
   "cell_type": "code",
   "execution_count": 20,
   "metadata": {},
   "outputs": [],
   "source": [
    "#\n",
    "#\n",
    "dfs = Run().fill_df()\n",
    "dfV2,dfV3 = dfs.dfV2,dfs.dfV3\n",
    "df = pd.merge( dfV3, dfV2, 'outer', '_id',suffixes=['_V3', '_V2'])\n"
   ]
  },
  {
   "cell_type": "code",
   "execution_count": null,
   "metadata": {},
   "outputs": [],
   "source": []
  },
  {
   "cell_type": "code",
   "execution_count": 21,
   "metadata": {},
   "outputs": [],
   "source": [
    "Δ_list = [['attackVector','AV_3'], ['accessVector', 'AV_2']]\n",
    "dum_add = lambda ele: pd.get_dummies(df[ele[0]],prefix=ele[1])\n",
    "\n",
    "frames = [dum_add(i) for i in Δ_list]\n",
    "\n",
    "df = df.drop([i[0] for i in Δ_list], axis=1)\n",
    "\n",
    "frames.append(df)\n",
    "\n",
    "df = pd.concat(frames,axis=1)"
   ]
  },
  {
   "cell_type": "code",
   "execution_count": 22,
   "metadata": {},
   "outputs": [],
   "source": [
    "dfV2_keys,dfV3_keys = dfs.dfV2.keys(),dfs.dfV3.keys()\n",
    "\n",
    "\n",
    "transform_idx = df.T.index\n",
    "\n",
    "for i in transform_idx:\n",
    "    #print(i[:4])\n",
    "    if i[:4] == 'AV_3':\n",
    "        dfV3_keys = dfV3_keys.append(pd.Index([i]))\n",
    "    if i[:4] == 'AV_2':\n",
    "        dfV2_keys = dfV2_keys.append(pd.Index([i]))\n",
    "\n",
    "dfV3_keys = dfV3_keys.drop('attackVector')\n",
    "dfV2_keys = dfV2_keys.drop('accessVector')\n",
    "\n",
    "setDf = dfV3_keys.union(dfV2_keys)#set(dfV3_keys)\n",
    "maskPairs = []\n",
    "\n",
    "for i in setDf: \n",
    "    \n",
    "    substr_i = transform_idx[transform_idx.str.startswith(i+'_')]\n",
    "    if len(substr_i) >0:\n",
    "        maskPairs.append(substr_i)\n",
    "    \n",
    "\n",
    "#maskPairs"
   ]
  },
  {
   "cell_type": "code",
   "execution_count": null,
   "metadata": {},
   "outputs": [],
   "source": []
  },
  {
   "cell_type": "code",
   "execution_count": 23,
   "metadata": {},
   "outputs": [
    {
     "data": {
      "text/plain": [
       "Index(['_id', 'version', 'vectorString', 'accessComplexity', 'authentication',\n",
       "       'confidentialityImpact', 'integrityImpact', 'availabilityImpact',\n",
       "       'baseScore', 'severity', 'exploitabilityScore', 'impactScore',\n",
       "       'obtainAllPrivilege', 'obtainUserPrivilege', 'obtainOtherPrivilege',\n",
       "       'userInteractionRequired', 'acInsufInfo', 'AV_2_ADJACENT_NETWORK',\n",
       "       'AV_2_LOCAL', 'AV_2_NETWORK'],\n",
       "      dtype='object')"
      ]
     },
     "execution_count": 23,
     "metadata": {},
     "output_type": "execute_result"
    }
   ],
   "source": [
    "dfV2_keys"
   ]
  },
  {
   "cell_type": "code",
   "execution_count": 200,
   "metadata": {},
   "outputs": [
    {
     "name": "stdout",
     "output_type": "stream",
     "text": [
      "<IntegerArray>\n",
      "[0, 1]\n",
      "Length: 2, dtype: UInt8 AV_3_ADJACENT_NETWORK\n",
      "<IntegerArray>\n",
      "[0, 1]\n",
      "Length: 2, dtype: UInt8 AV_3_LOCAL\n",
      "<IntegerArray>\n",
      "[0, 1]\n",
      "Length: 2, dtype: UInt8 AV_3_NETWORK\n",
      "<IntegerArray>\n",
      "[0, 1]\n",
      "Length: 2, dtype: UInt8 AV_3_PHYSICAL\n",
      "<IntegerArray>\n",
      "[0, 1]\n",
      "Length: 2, dtype: UInt8 AV_2_ADJACENT_NETWORK\n",
      "<IntegerArray>\n",
      "[0, 1]\n",
      "Length: 2, dtype: UInt8 AV_2_LOCAL\n",
      "<IntegerArray>\n",
      "[1, 0]\n",
      "Length: 2, dtype: UInt8 AV_2_NETWORK\n",
      "<FloatingArray>\n",
      "[<NA>, 3.0, 3.1]\n",
      "Length: 3, dtype: Float64 version_V3\n",
      "<IntegerArray>\n",
      "[<NA>, 1, 3]\n",
      "Length: 3, dtype: Int64 attackComplexity\n",
      "<IntegerArray>\n",
      "[<NA>, 0, 1, 3]\n",
      "Length: 4, dtype: Int64 privilegesRequired\n",
      "<IntegerArray>\n",
      "[<NA>, 1, 0]\n",
      "Length: 3, dtype: Int64 userInteraction\n",
      "<IntegerArray>\n",
      "[<NA>, 0, 1]\n",
      "Length: 3, dtype: Int64 scope\n",
      "<IntegerArray>\n",
      "[<NA>, 0, 3, 1]\n",
      "Length: 4, dtype: Int64 confidentialityImpact_V3\n",
      "<IntegerArray>\n",
      "[<NA>, 0, 3, 1]\n",
      "Length: 4, dtype: Int64 integrityImpact_V3\n",
      "<IntegerArray>\n",
      "[<NA>, 3, 0, 1]\n",
      "Length: 4, dtype: Int64 availabilityImpact_V3\n",
      "<IntegerArray>\n",
      "[<NA>, 2, 3, 4, 1]\n",
      "Length: 5, dtype: Int64 baseSeverity\n",
      "<IntegerArray>\n",
      "[2, <NA>]\n",
      "Length: 2, dtype: Int64 version_V2\n",
      "<IntegerArray>\n",
      "[1, 2, 3, <NA>]\n",
      "Length: 4, dtype: Int64 accessComplexity\n",
      "<IntegerArray>\n",
      "[0, 1, 2, <NA>]\n",
      "Length: 4, dtype: Int64 authentication\n",
      "<IntegerArray>\n",
      "[0, 1, 2, <NA>]\n",
      "Length: 4, dtype: Int64 confidentialityImpact_V2\n",
      "<IntegerArray>\n",
      "[1, 0, 2, <NA>]\n",
      "Length: 4, dtype: Int64 integrityImpact_V2\n",
      "<IntegerArray>\n",
      "[0, 2, 1, <NA>]\n",
      "Length: 4, dtype: Int64 availabilityImpact_V2\n",
      "<IntegerArray>\n",
      "[2, 3, 1, <NA>]\n",
      "Length: 4, dtype: Int64 severity\n",
      "<IntegerArray>\n",
      "[0, 1, <NA>]\n",
      "Length: 3, dtype: Int64 obtainAllPrivilege\n",
      "<IntegerArray>\n",
      "[0, 1, <NA>]\n",
      "Length: 3, dtype: Int64 obtainUserPrivilege\n",
      "<IntegerArray>\n",
      "[0, 1, <NA>]\n",
      "Length: 3, dtype: Int64 obtainOtherPrivilege\n",
      "<IntegerArray>\n",
      "[0, 1, <NA>]\n",
      "Length: 3, dtype: Int64 userInteractionRequired\n",
      "<IntegerArray>\n",
      "[<NA>, 0, 1]\n",
      "Length: 3, dtype: Int64 acInsufInfo\n"
     ]
    }
   ],
   "source": [
    "list_ = []\n",
    "for i in df.columns:\n",
    "    if len(df[i].unique()) <10:\n",
    "        print(df[i].unique(), i)\n",
    "        '''for j in df[i].unique():\n",
    "            #print(j,type(j))\n",
    "            if type(j) != bool and type(j) != float and not j[0].isnumeric():# and not j.is:\n",
    "                list_.append(j)\n",
    "list_ = set(list_)\n",
    "list_'''"
   ]
  },
  {
   "cell_type": "code",
   "execution_count": 25,
   "metadata": {},
   "outputs": [],
   "source": [
    "cat_dict = {#'PHYSICAL':0 ,'LOCAL':1, 'NETWORK':2,'ADJACENT_NETWORK':3,\n",
    "'NONE': 0, 'LOW':1, 'MEDIUM':2,'HIGH':3, 'CRITICAL':4,\n",
    "'PARTIAL': 1, 'COMPLETE':2,\n",
    "'SINGLE' :1, 'MULTIPLE' :2,\n",
    "'UNCHANGED':0 ,'CHANGED':1,\n",
    "'REQUIRED':1,\n",
    "False:0, True:1\n",
    "}"
   ]
  },
  {
   "cell_type": "code",
   "execution_count": 26,
   "metadata": {},
   "outputs": [
    {
     "data": {
      "text/plain": [
       "dict_values([0, 1, 2, 3, 4, 1, 2, 1, 2, 0, 1, 1, 0, 1])"
      ]
     },
     "execution_count": 26,
     "metadata": {},
     "output_type": "execute_result"
    }
   ],
   "source": [
    "cat_dict.values()"
   ]
  },
  {
   "cell_type": "code",
   "execution_count": 27,
   "metadata": {},
   "outputs": [],
   "source": [
    "df.replace(cat_dict, inplace=True)"
   ]
  },
  {
   "cell_type": "code",
   "execution_count": 28,
   "metadata": {},
   "outputs": [],
   "source": [
    "f = df.filter(regex='version*').columns\n",
    "df[f] = df[f].astype(float)"
   ]
  },
  {
   "cell_type": "code",
   "execution_count": 29,
   "metadata": {},
   "outputs": [],
   "source": [
    "df = df.convert_dtypes()"
   ]
  },
  {
   "cell_type": "code",
   "execution_count": 30,
   "metadata": {},
   "outputs": [],
   "source": [
    "#df.plot(kind = 'scatter', x = 'confidentialityImpact_x', y = 'confidentialityImpact_y')"
   ]
  },
  {
   "cell_type": "code",
   "execution_count": 31,
   "metadata": {},
   "outputs": [],
   "source": [
    "df.to_csv('out.csv')"
   ]
  },
  {
   "cell_type": "markdown",
   "metadata": {},
   "source": [
    "### Part 2\n",
    "Predict the CVSSv3 Scope metric for CVEs without a CVSSv3 vector."
   ]
  },
  {
   "cell_type": "markdown",
   "metadata": {},
   "source": []
  },
  {
   "cell_type": "code",
   "execution_count": 32,
   "metadata": {},
   "outputs": [],
   "source": [
    "\n",
    "from sklearn.ensemble import RandomForestClassifier\n",
    "from sklearn import svm\n",
    "from sklearn.neural_network import MLPClassifier\n",
    "from sklearn.linear_model import LogisticRegression\n",
    "from sklearn.discriminant_analysis  import LinearDiscriminantAnalysis\n",
    "from sklearn.neighbors import KNeighborsClassifier\n",
    "from sklearn.tree import DecisionTreeClassifier\n",
    "from sklearn.naive_bayes import GaussianNB\n",
    "\n",
    "from sklearn.model_selection import train_test_split\n",
    "from sklearn.metrics import ConfusionMatrixDisplay,confusion_matrix, classification_report, mean_absolute_error\n",
    "from sklearn.preprocessing import StandardScaler\n",
    "\n",
    "from pprint import pprint\n"
   ]
  },
  {
   "cell_type": "code",
   "execution_count": 33,
   "metadata": {},
   "outputs": [],
   "source": [
    "\n",
    "cssv3 = []\n",
    "cssv2 = []\n",
    "dfV3_keys_cp = dfV3_keys.drop(['_id','vectorString'])\n",
    "dfV2_keys_cp = dfV2_keys.drop(['_id','vectorString'])\n",
    "for i in maskPairs:\n",
    "    if i[0][:-3] in dfV3_keys and i[0][:-3] != 'vectorString':\n",
    "        cssv3.append(i[0])\n",
    "        dfV3_keys_cp = dfV3_keys_cp.drop([i[0][:-3]])\n",
    "\n",
    "    \n",
    "    if i[0][:-3] in dfV2_keys and i[0][:-3] != 'vectorString':\n",
    "        cssv2.append(i[1])\n",
    "        dfV2_keys_cp = dfV2_keys_cp.drop([i[0][:-3]])\n",
    "\n",
    "cssv3 = dfV3_keys_cp.union(cssv3)  \n",
    "cssv2 = dfV2_keys_cp.union(cssv2)   \n"
   ]
  },
  {
   "cell_type": "code",
   "execution_count": 153,
   "metadata": {},
   "outputs": [],
   "source": [
    "dfNoNan = df.loc[:,df.dtypes != 'object'].drop('acInsufInfo',axis=1).dropna()"
   ]
  },
  {
   "cell_type": "code",
   "execution_count": 154,
   "metadata": {},
   "outputs": [],
   "source": [
    "X = dfNoNan[cssv2.drop('acInsufInfo')]\n",
    "y = dfNoNan['scope'].astype(int)\n"
   ]
  },
  {
   "cell_type": "code",
   "execution_count": 155,
   "metadata": {},
   "outputs": [],
   "source": [
    "X_train, X_test, y_train, y_test = train_test_split(X, y, random_state = 1234) "
   ]
  },
  {
   "cell_type": "code",
   "execution_count": 156,
   "metadata": {},
   "outputs": [],
   "source": [
    "ncol = len(X_train.columns)"
   ]
  },
  {
   "cell_type": "code",
   "execution_count": 157,
   "metadata": {},
   "outputs": [],
   "source": [
    "\n",
    "\n",
    "model_RFC = RandomForestClassifier()\n",
    "model_SVC = svm.SVC()\n",
    "model_MLP = MLPClassifier()\n",
    "model_LR =  LogisticRegression()\n",
    "model_LDA =  LinearDiscriminantAnalysis()\n",
    "model_KNN =  KNeighborsClassifier()\n",
    "model_CART =  DecisionTreeClassifier()\n",
    "model_NB =  GaussianNB()\n",
    "\n",
    "#sc = StandardScaler()\n",
    "\n",
    "#X_train = sc.fit_transform(X_train)\n",
    "#X_test = sc.transform(X_test)\n",
    "\n",
    "\n",
    "mod_list = [\n",
    "    \n",
    "    #model_SVC,\n",
    "    model_MLP,\n",
    "    model_LR,\n",
    "    model_LDA,\n",
    "    model_KNN,\n",
    "    model_CART,\n",
    "    model_RFC,\n",
    "    model_NB]\n",
    "\n"
   ]
  },
  {
   "cell_type": "code",
   "execution_count": 158,
   "metadata": {},
   "outputs": [
    {
     "data": {
      "text/plain": [
       "0    83029\n",
       "1    16864\n",
       "Name: scope, dtype: Int64"
      ]
     },
     "execution_count": 158,
     "metadata": {},
     "output_type": "execute_result"
    }
   ],
   "source": [
    "df.scope.value_counts()"
   ]
  },
  {
   "cell_type": "code",
   "execution_count": 185,
   "metadata": {},
   "outputs": [],
   "source": [
    "def model_info(model):\n",
    "    print('~~~ fitting model')\n",
    "    f = model.fit(X_train.values, y_train.values)\n",
    "    print('~~~ predicting values')\n",
    "    pred = model.predict(X_test.values)\n",
    "    print('~~~ checking validity')\n",
    "    sc = f.score(X_test.values, y_test.values)\n",
    "    m = mean_absolute_error(y_test.values, pred)\n",
    "    c = confusion_matrix(y_test.values, pred)\n",
    "    dict_ = {'model': f, 'score' : sc, 'prediction': pred, 'MAE' : m, 'Confusion Matrix': c}\n",
    "    return dict_\n",
    "    "
   ]
  },
  {
   "cell_type": "code",
   "execution_count": 201,
   "metadata": {},
   "outputs": [
    {
     "name": "stdout",
     "output_type": "stream",
     "text": [
      "\n",
      "~~~~~~~~~~~~~~~~~~~~~~~~~\n",
      "Working on SVC()\n",
      "~~~ fitting model\n",
      "~~~ predicting values\n",
      "~~~ checking validity\n",
      "{'Confusion Matrix': array([[19920,   524],\n",
      "       [  960,  3348]]),\n",
      " 'MAE': 0.05995475113122172,\n",
      " 'model': SVC(),\n",
      " 'prediction': array([0, 0, 0, ..., 0, 1, 0]),\n",
      " 'score': 0.9400452488687783}\n",
      "\n",
      "~~~~~~~~~~~~~~~~~~~~~~~~~\n",
      "Working on MLPClassifier()\n",
      "~~~ fitting model\n",
      "~~~ predicting values\n",
      "~~~ checking validity\n",
      "{'Confusion Matrix': array([[19945,   499],\n",
      "       [  927,  3381]]),\n",
      " 'MAE': 0.0576115061409179,\n",
      " 'model': MLPClassifier(),\n",
      " 'prediction': array([0, 0, 0, ..., 0, 1, 0]),\n",
      " 'score': 0.9423884938590821}\n",
      "\n",
      "~~~~~~~~~~~~~~~~~~~~~~~~~\n",
      "Working on LogisticRegression()\n",
      "~~~ fitting model\n"
     ]
    },
    {
     "name": "stderr",
     "output_type": "stream",
     "text": [
      "/home/potz/.local/lib/python3.9/site-packages/sklearn/linear_model/_logistic.py:814: ConvergenceWarning: lbfgs failed to converge (status=1):\n",
      "STOP: TOTAL NO. of ITERATIONS REACHED LIMIT.\n",
      "\n",
      "Increase the number of iterations (max_iter) or scale the data as shown in:\n",
      "    https://scikit-learn.org/stable/modules/preprocessing.html\n",
      "Please also refer to the documentation for alternative solver options:\n",
      "    https://scikit-learn.org/stable/modules/linear_model.html#logistic-regression\n",
      "  n_iter_i = _check_optimize_result(\n"
     ]
    },
    {
     "name": "stdout",
     "output_type": "stream",
     "text": [
      "~~~ predicting values\n",
      "~~~ checking validity\n",
      "{'Confusion Matrix': array([[19820,   624],\n",
      "       [ 1187,  3121]]),\n",
      " 'MAE': 0.07316580478345185,\n",
      " 'model': LogisticRegression(),\n",
      " 'prediction': array([0, 0, 0, ..., 0, 1, 0]),\n",
      " 'score': 0.9268341952165482}\n",
      "\n",
      "~~~~~~~~~~~~~~~~~~~~~~~~~\n",
      "Working on LinearDiscriminantAnalysis()\n",
      "~~~ fitting model\n",
      "~~~ predicting values\n",
      "~~~ checking validity\n",
      "{'Confusion Matrix': array([[19496,   948],\n",
      "       [  902,  3406]]),\n",
      " 'MAE': 0.07474143503555268,\n",
      " 'model': LinearDiscriminantAnalysis(),\n",
      " 'prediction': array([0, 0, 0, ..., 0, 1, 0]),\n",
      " 'score': 0.9252585649644474}\n",
      "\n",
      "~~~~~~~~~~~~~~~~~~~~~~~~~\n",
      "Working on KNeighborsClassifier()\n",
      "~~~ fitting model\n",
      "~~~ predicting values\n",
      "~~~ checking validity\n",
      "{'Confusion Matrix': array([[19864,   580],\n",
      "       [  894,  3414]]),\n",
      " 'MAE': 0.05955074337427278,\n",
      " 'model': KNeighborsClassifier(),\n",
      " 'prediction': array([0, 0, 0, ..., 0, 1, 0]),\n",
      " 'score': 0.9404492566257272}\n",
      "\n",
      "~~~~~~~~~~~~~~~~~~~~~~~~~\n",
      "Working on DecisionTreeClassifier()\n",
      "~~~ fitting model\n",
      "~~~ predicting values\n",
      "~~~ checking validity\n",
      "{'Confusion Matrix': array([[19939,   505],\n",
      "       [  911,  3397]]),\n",
      " 'MAE': 0.05720749838396897,\n",
      " 'model': DecisionTreeClassifier(),\n",
      " 'prediction': array([0, 0, 0, ..., 0, 1, 0]),\n",
      " 'score': 0.942792501616031}\n",
      "\n",
      "~~~~~~~~~~~~~~~~~~~~~~~~~\n",
      "Working on RandomForestClassifier()\n",
      "~~~ fitting model\n",
      "~~~ predicting values\n",
      "~~~ checking validity\n",
      "{'Confusion Matrix': array([[19936,   508],\n",
      "       [  905,  3403]]),\n",
      " 'MAE': 0.05708629605688429,\n",
      " 'model': RandomForestClassifier(),\n",
      " 'prediction': array([0, 0, 0, ..., 0, 1, 0]),\n",
      " 'score': 0.9429137039431157}\n",
      "\n",
      "~~~~~~~~~~~~~~~~~~~~~~~~~\n",
      "Working on GaussianNB()\n",
      "~~~ fitting model\n",
      "~~~ predicting values\n",
      "~~~ checking validity\n",
      "{'Confusion Matrix': array([[ 9001, 11443],\n",
      "       [  526,  3782]]),\n",
      " 'MAE': 0.4835568842921784,\n",
      " 'model': GaussianNB(),\n",
      " 'prediction': array([0, 0, 0, ..., 0, 1, 0]),\n",
      " 'score': 0.5164431157078216}\n"
     ]
    }
   ],
   "source": [
    "def model_dict():\n",
    "\n",
    "    mod_dict ={}\n",
    "    idx = 0\n",
    "    for i in mod_list: \n",
    "        mod_type = i.__str__()\n",
    "        \n",
    "        print(f\"\\n~~~~~~~~~~~~~~~~~~~~~~~~~\\nWorking on {mod_type}\")\n",
    "        \n",
    "        mod_info = model_info(i)\n",
    "        mod_dict[mod_type] =  (idx ,mod_info)\n",
    "        idx+=1\n",
    "        pprint(mod_info)\n",
    "        \n",
    "    return mod_dict\n",
    "\n",
    "mod_dict_p2 = model_dict()\n"
   ]
  },
  {
   "cell_type": "code",
   "execution_count": 207,
   "metadata": {},
   "outputs": [
    {
     "data": {
      "text/plain": [
       "(0,\n",
       " {'model': SVC(),\n",
       "  'score': 0.9400452488687783,\n",
       "  'prediction': array([0, 0, 0, ..., 0, 1, 0]),\n",
       "  'MAE': 0.05995475113122172,\n",
       "  'Confusion Matrix': array([[19920,   524],\n",
       "         [  960,  3348]])})"
      ]
     },
     "execution_count": 207,
     "metadata": {},
     "output_type": "execute_result"
    }
   ],
   "source": [
    "mod_dict_p2['SVC()']"
   ]
  },
  {
   "cell_type": "code",
   "execution_count": 208,
   "metadata": {},
   "outputs": [],
   "source": [
    "ytest_vals = {}\n",
    "for i in mod_list:\n",
    "    #print(i)\n",
    "    pred = pd.DataFrame(mod_dict_p2[str(i)][1]['prediction'])#pd.DataFrame(i.predict(Xnew))\n",
    "    ytest_vals[i.__str__()] = pred.value_counts(), pred"
   ]
  },
  {
   "cell_type": "code",
   "execution_count": 209,
   "metadata": {},
   "outputs": [
    {
     "name": "stdout",
     "output_type": "stream",
     "text": [
      "0.1854406130268199\n",
      "0.1858949789191261\n",
      "0.17827390869710097\n",
      "0.213452299245024\n",
      "0.19240774641102226\n",
      "0.1871462829736211\n",
      "0.1876589415095245\n",
      "1.59808963997061\n"
     ]
    }
   ],
   "source": [
    "for i in ytest_vals:\n",
    "    print(ytest_vals[i][0][1]/ytest_vals[i][0][0])"
   ]
  },
  {
   "cell_type": "code",
   "execution_count": 210,
   "metadata": {},
   "outputs": [
    {
     "name": "stdout",
     "output_type": "stream",
     "text": [
      "(6, 0.9429137039431157)\n"
     ]
    }
   ],
   "source": [
    "best_mod= ('',0)\n",
    "\n",
    "for i in mod_dict_p2:\n",
    "    #print(mod_dict_p2[i])\n",
    "    if mod_dict_p2[i][1]['score'] > best_mod[1]:\n",
    "        best_mod = mod_dict_p2[i][0], mod_dict_p2[i][1]['score']\n",
    "\n",
    "print(best_mod)\n",
    "work_model = mod_list[best_mod[0]]"
   ]
  },
  {
   "cell_type": "code",
   "execution_count": 211,
   "metadata": {},
   "outputs": [
    {
     "name": "stderr",
     "output_type": "stream",
     "text": [
      "/home/potz/.local/lib/python3.9/site-packages/sklearn/base.py:443: UserWarning: X has feature names, but RandomForestClassifier was fitted without feature names\n",
      "  warnings.warn(\n"
     ]
    }
   ],
   "source": [
    "# prediction df with scope = nan\n",
    "'''df_pred = df[cssv2.append(pd.Index(['scope'])).drop('acInsufInfo')]\n",
    "df_pred[]\n",
    "print(df_pred)'''\n",
    "df_pred = df[df['scope'].isna()]\n",
    "\n",
    "Xnew = df_pred[cssv2.drop('acInsufInfo')].dropna()\n",
    "#Xnew = sc.transform(Xnew)\n",
    "ynew = work_model.predict(Xnew)\n",
    "#Xnew"
   ]
  },
  {
   "cell_type": "code",
   "execution_count": 212,
   "metadata": {},
   "outputs": [],
   "source": [
    "ynew_vals = {}\n",
    "for i in mod_list:\n",
    "    pred = pd.DataFrame(i.predict(Xnew.values))\n",
    "    ynew_vals[i.__str__()] = pred.value_counts(), pred"
   ]
  },
  {
   "cell_type": "code",
   "execution_count": null,
   "metadata": {},
   "outputs": [],
   "source": []
  },
  {
   "cell_type": "code",
   "execution_count": 192,
   "metadata": {},
   "outputs": [
    {
     "name": "stdout",
     "output_type": "stream",
     "text": [
      "0.16254273156438223\n",
      "0.16930004093327874\n",
      "0.16748406081412456\n",
      "0.184721300597213\n",
      "0.17217890849405007\n",
      "0.17131376086599967\n",
      "0.1727563839395681\n",
      "1.0945886493620764\n"
     ]
    }
   ],
   "source": [
    "for i in ynew_vals:\n",
    "    print(ynew_vals[i][0][1]/ynew_vals[i][0][0])"
   ]
  },
  {
   "cell_type": "code",
   "execution_count": 139,
   "metadata": {},
   "outputs": [
    {
     "data": {
      "text/plain": [
       "0    14273\n",
       "1       10\n",
       "dtype: int64"
      ]
     },
     "execution_count": 139,
     "metadata": {},
     "output_type": "execute_result"
    }
   ],
   "source": [
    "pd.DataFrame(ynew).value_counts()"
   ]
  },
  {
   "cell_type": "markdown",
   "metadata": {},
   "source": [
    "\n",
    "### Part 3\n",
    "Predict the CVSSv3 Confidentiality, Integrity and Availability metrics for CVEs without a CVSSv3 vector.\n",
    "\n",
    "### Guidance for Parts 2-3\n",
    "- What type of learning problem is this? What is the target? \n",
    "- How would you build the training / validation / testing dataset?\n",
    "- Which evaluation metrics would you use?\n",
    "- What simple model might be used for this problem? Could this be improved upon with a more complex solution?\n"
   ]
  },
  {
   "cell_type": "code",
   "execution_count": 194,
   "metadata": {},
   "outputs": [
    {
     "data": {
      "text/plain": [
       "Index(['AV_3_ADJACENT_NETWORK', 'AV_3_LOCAL', 'AV_3_NETWORK', 'AV_3_PHYSICAL',\n",
       "       'attackComplexity', 'availabilityImpact_V3', 'baseScore_V3',\n",
       "       'baseSeverity', 'confidentialityImpact_V3', 'exploitabilityScore_V3',\n",
       "       'impactScore_V3', 'integrityImpact_V3', 'privilegesRequired', 'scope',\n",
       "       'userInteraction', 'version_V3'],\n",
       "      dtype='object')"
      ]
     },
     "execution_count": 194,
     "metadata": {},
     "output_type": "execute_result"
    }
   ],
   "source": [
    "cssv3"
   ]
  },
  {
   "cell_type": "code",
   "execution_count": 204,
   "metadata": {},
   "outputs": [],
   "source": [
    "response = pd.Index(['confidentialityImpact_V3', 'integrityImpact_V3', 'availabilityImpact_V3'])\n",
    "X = dfNoNan[cssv2.drop('acInsufInfo')]\n",
    "y = dfNoNan[response]#.astype(int)"
   ]
  },
  {
   "cell_type": "code",
   "execution_count": 205,
   "metadata": {},
   "outputs": [],
   "source": [
    "X_train, X_test, y_train, y_test = train_test_split(X, y, random_state = 1234) "
   ]
  },
  {
   "cell_type": "code",
   "execution_count": 206,
   "metadata": {},
   "outputs": [
    {
     "name": "stdout",
     "output_type": "stream",
     "text": [
      "\n",
      "~~~~~~~~~~~~~~~~~~~~~~~~~\n",
      "Working on SVC()\n",
      "~~~ fitting model\n"
     ]
    },
    {
     "ename": "ValueError",
     "evalue": "y should be a 1d array, got an array of shape (74254, 3) instead.",
     "output_type": "error",
     "traceback": [
      "\u001b[0;31m---------------------------------------------------------------------------\u001b[0m",
      "\u001b[0;31mValueError\u001b[0m                                Traceback (most recent call last)",
      "\u001b[1;32m/home/potz/Code/tenable/tech_challenge/analysis.ipynb Cell 44'\u001b[0m in \u001b[0;36m<module>\u001b[0;34m\u001b[0m\n\u001b[0;32m----> <a href='vscode-notebook-cell:/home/potz/Code/tenable/tech_challenge/analysis.ipynb#ch0000137?line=0'>1</a>\u001b[0m mod_dict_p3 \u001b[39m=\u001b[39m model_dict()\n",
      "\u001b[1;32m/home/potz/Code/tenable/tech_challenge/analysis.ipynb Cell 31'\u001b[0m in \u001b[0;36mmodel_dict\u001b[0;34m()\u001b[0m\n\u001b[1;32m      <a href='vscode-notebook-cell:/home/potz/Code/tenable/tech_challenge/analysis.ipynb#ch0000099?line=5'>6</a>\u001b[0m mod_type \u001b[39m=\u001b[39m i\u001b[39m.\u001b[39m\u001b[39m__str__\u001b[39m()\n\u001b[1;32m      <a href='vscode-notebook-cell:/home/potz/Code/tenable/tech_challenge/analysis.ipynb#ch0000099?line=7'>8</a>\u001b[0m \u001b[39mprint\u001b[39m(\u001b[39mf\u001b[39m\u001b[39m\"\u001b[39m\u001b[39m\\n\u001b[39;00m\u001b[39m~~~~~~~~~~~~~~~~~~~~~~~~~\u001b[39m\u001b[39m\\n\u001b[39;00m\u001b[39mWorking on \u001b[39m\u001b[39m{\u001b[39;00mmod_type\u001b[39m}\u001b[39;00m\u001b[39m\"\u001b[39m)\n\u001b[0;32m---> <a href='vscode-notebook-cell:/home/potz/Code/tenable/tech_challenge/analysis.ipynb#ch0000099?line=9'>10</a>\u001b[0m mod_info \u001b[39m=\u001b[39m model_info(i)\n\u001b[1;32m     <a href='vscode-notebook-cell:/home/potz/Code/tenable/tech_challenge/analysis.ipynb#ch0000099?line=10'>11</a>\u001b[0m mod_dict[mod_type] \u001b[39m=\u001b[39m  (idx ,mod_info)\n\u001b[1;32m     <a href='vscode-notebook-cell:/home/potz/Code/tenable/tech_challenge/analysis.ipynb#ch0000099?line=11'>12</a>\u001b[0m idx\u001b[39m+\u001b[39m\u001b[39m=\u001b[39m\u001b[39m1\u001b[39m\n",
      "\u001b[1;32m/home/potz/Code/tenable/tech_challenge/analysis.ipynb Cell 30'\u001b[0m in \u001b[0;36mmodel_info\u001b[0;34m(model)\u001b[0m\n\u001b[1;32m      <a href='vscode-notebook-cell:/home/potz/Code/tenable/tech_challenge/analysis.ipynb#ch0000109?line=0'>1</a>\u001b[0m \u001b[39mdef\u001b[39;00m \u001b[39mmodel_info\u001b[39m(model):\n\u001b[1;32m      <a href='vscode-notebook-cell:/home/potz/Code/tenable/tech_challenge/analysis.ipynb#ch0000109?line=1'>2</a>\u001b[0m     \u001b[39mprint\u001b[39m(\u001b[39m'\u001b[39m\u001b[39m~~~ fitting model\u001b[39m\u001b[39m'\u001b[39m)\n\u001b[0;32m----> <a href='vscode-notebook-cell:/home/potz/Code/tenable/tech_challenge/analysis.ipynb#ch0000109?line=2'>3</a>\u001b[0m     f \u001b[39m=\u001b[39m model\u001b[39m.\u001b[39;49mfit(X_train\u001b[39m.\u001b[39;49mvalues, y_train\u001b[39m.\u001b[39;49mvalues)\n\u001b[1;32m      <a href='vscode-notebook-cell:/home/potz/Code/tenable/tech_challenge/analysis.ipynb#ch0000109?line=3'>4</a>\u001b[0m     \u001b[39mprint\u001b[39m(\u001b[39m'\u001b[39m\u001b[39m~~~ predicting values\u001b[39m\u001b[39m'\u001b[39m)\n\u001b[1;32m      <a href='vscode-notebook-cell:/home/potz/Code/tenable/tech_challenge/analysis.ipynb#ch0000109?line=4'>5</a>\u001b[0m     pred \u001b[39m=\u001b[39m model\u001b[39m.\u001b[39mpredict(X_test\u001b[39m.\u001b[39mvalues)\n",
      "File \u001b[0;32m~/.local/lib/python3.9/site-packages/sklearn/svm/_base.py:190\u001b[0m, in \u001b[0;36mBaseLibSVM.fit\u001b[0;34m(self, X, y, sample_weight)\u001b[0m\n\u001b[1;32m    <a href='file:///home/potz/.local/lib/python3.9/site-packages/sklearn/svm/_base.py?line=187'>188</a>\u001b[0m     check_consistent_length(X, y)\n\u001b[1;32m    <a href='file:///home/potz/.local/lib/python3.9/site-packages/sklearn/svm/_base.py?line=188'>189</a>\u001b[0m \u001b[39melse\u001b[39;00m:\n\u001b[0;32m--> <a href='file:///home/potz/.local/lib/python3.9/site-packages/sklearn/svm/_base.py?line=189'>190</a>\u001b[0m     X, y \u001b[39m=\u001b[39m \u001b[39mself\u001b[39;49m\u001b[39m.\u001b[39;49m_validate_data(\n\u001b[1;32m    <a href='file:///home/potz/.local/lib/python3.9/site-packages/sklearn/svm/_base.py?line=190'>191</a>\u001b[0m         X,\n\u001b[1;32m    <a href='file:///home/potz/.local/lib/python3.9/site-packages/sklearn/svm/_base.py?line=191'>192</a>\u001b[0m         y,\n\u001b[1;32m    <a href='file:///home/potz/.local/lib/python3.9/site-packages/sklearn/svm/_base.py?line=192'>193</a>\u001b[0m         dtype\u001b[39m=\u001b[39;49mnp\u001b[39m.\u001b[39;49mfloat64,\n\u001b[1;32m    <a href='file:///home/potz/.local/lib/python3.9/site-packages/sklearn/svm/_base.py?line=193'>194</a>\u001b[0m         order\u001b[39m=\u001b[39;49m\u001b[39m\"\u001b[39;49m\u001b[39mC\u001b[39;49m\u001b[39m\"\u001b[39;49m,\n\u001b[1;32m    <a href='file:///home/potz/.local/lib/python3.9/site-packages/sklearn/svm/_base.py?line=194'>195</a>\u001b[0m         accept_sparse\u001b[39m=\u001b[39;49m\u001b[39m\"\u001b[39;49m\u001b[39mcsr\u001b[39;49m\u001b[39m\"\u001b[39;49m,\n\u001b[1;32m    <a href='file:///home/potz/.local/lib/python3.9/site-packages/sklearn/svm/_base.py?line=195'>196</a>\u001b[0m         accept_large_sparse\u001b[39m=\u001b[39;49m\u001b[39mFalse\u001b[39;49;00m,\n\u001b[1;32m    <a href='file:///home/potz/.local/lib/python3.9/site-packages/sklearn/svm/_base.py?line=196'>197</a>\u001b[0m     )\n\u001b[1;32m    <a href='file:///home/potz/.local/lib/python3.9/site-packages/sklearn/svm/_base.py?line=198'>199</a>\u001b[0m y \u001b[39m=\u001b[39m \u001b[39mself\u001b[39m\u001b[39m.\u001b[39m_validate_targets(y)\n\u001b[1;32m    <a href='file:///home/potz/.local/lib/python3.9/site-packages/sklearn/svm/_base.py?line=200'>201</a>\u001b[0m sample_weight \u001b[39m=\u001b[39m np\u001b[39m.\u001b[39masarray(\n\u001b[1;32m    <a href='file:///home/potz/.local/lib/python3.9/site-packages/sklearn/svm/_base.py?line=201'>202</a>\u001b[0m     [] \u001b[39mif\u001b[39;00m sample_weight \u001b[39mis\u001b[39;00m \u001b[39mNone\u001b[39;00m \u001b[39melse\u001b[39;00m sample_weight, dtype\u001b[39m=\u001b[39mnp\u001b[39m.\u001b[39mfloat64\n\u001b[1;32m    <a href='file:///home/potz/.local/lib/python3.9/site-packages/sklearn/svm/_base.py?line=202'>203</a>\u001b[0m )\n",
      "File \u001b[0;32m~/.local/lib/python3.9/site-packages/sklearn/base.py:581\u001b[0m, in \u001b[0;36mBaseEstimator._validate_data\u001b[0;34m(self, X, y, reset, validate_separately, **check_params)\u001b[0m\n\u001b[1;32m    <a href='file:///home/potz/.local/lib/python3.9/site-packages/sklearn/base.py?line=578'>579</a>\u001b[0m         y \u001b[39m=\u001b[39m check_array(y, \u001b[39m*\u001b[39m\u001b[39m*\u001b[39mcheck_y_params)\n\u001b[1;32m    <a href='file:///home/potz/.local/lib/python3.9/site-packages/sklearn/base.py?line=579'>580</a>\u001b[0m     \u001b[39melse\u001b[39;00m:\n\u001b[0;32m--> <a href='file:///home/potz/.local/lib/python3.9/site-packages/sklearn/base.py?line=580'>581</a>\u001b[0m         X, y \u001b[39m=\u001b[39m check_X_y(X, y, \u001b[39m*\u001b[39;49m\u001b[39m*\u001b[39;49mcheck_params)\n\u001b[1;32m    <a href='file:///home/potz/.local/lib/python3.9/site-packages/sklearn/base.py?line=581'>582</a>\u001b[0m     out \u001b[39m=\u001b[39m X, y\n\u001b[1;32m    <a href='file:///home/potz/.local/lib/python3.9/site-packages/sklearn/base.py?line=583'>584</a>\u001b[0m \u001b[39mif\u001b[39;00m \u001b[39mnot\u001b[39;00m no_val_X \u001b[39mand\u001b[39;00m check_params\u001b[39m.\u001b[39mget(\u001b[39m\"\u001b[39m\u001b[39mensure_2d\u001b[39m\u001b[39m\"\u001b[39m, \u001b[39mTrue\u001b[39;00m):\n",
      "File \u001b[0;32m~/.local/lib/python3.9/site-packages/sklearn/utils/validation.py:979\u001b[0m, in \u001b[0;36mcheck_X_y\u001b[0;34m(X, y, accept_sparse, accept_large_sparse, dtype, order, copy, force_all_finite, ensure_2d, allow_nd, multi_output, ensure_min_samples, ensure_min_features, y_numeric, estimator)\u001b[0m\n\u001b[1;32m    <a href='file:///home/potz/.local/lib/python3.9/site-packages/sklearn/utils/validation.py?line=961'>962</a>\u001b[0m     \u001b[39mraise\u001b[39;00m \u001b[39mValueError\u001b[39;00m(\u001b[39m\"\u001b[39m\u001b[39my cannot be None\u001b[39m\u001b[39m\"\u001b[39m)\n\u001b[1;32m    <a href='file:///home/potz/.local/lib/python3.9/site-packages/sklearn/utils/validation.py?line=963'>964</a>\u001b[0m X \u001b[39m=\u001b[39m check_array(\n\u001b[1;32m    <a href='file:///home/potz/.local/lib/python3.9/site-packages/sklearn/utils/validation.py?line=964'>965</a>\u001b[0m     X,\n\u001b[1;32m    <a href='file:///home/potz/.local/lib/python3.9/site-packages/sklearn/utils/validation.py?line=965'>966</a>\u001b[0m     accept_sparse\u001b[39m=\u001b[39maccept_sparse,\n\u001b[0;32m   (...)\u001b[0m\n\u001b[1;32m    <a href='file:///home/potz/.local/lib/python3.9/site-packages/sklearn/utils/validation.py?line=975'>976</a>\u001b[0m     estimator\u001b[39m=\u001b[39mestimator,\n\u001b[1;32m    <a href='file:///home/potz/.local/lib/python3.9/site-packages/sklearn/utils/validation.py?line=976'>977</a>\u001b[0m )\n\u001b[0;32m--> <a href='file:///home/potz/.local/lib/python3.9/site-packages/sklearn/utils/validation.py?line=978'>979</a>\u001b[0m y \u001b[39m=\u001b[39m _check_y(y, multi_output\u001b[39m=\u001b[39;49mmulti_output, y_numeric\u001b[39m=\u001b[39;49my_numeric)\n\u001b[1;32m    <a href='file:///home/potz/.local/lib/python3.9/site-packages/sklearn/utils/validation.py?line=980'>981</a>\u001b[0m check_consistent_length(X, y)\n\u001b[1;32m    <a href='file:///home/potz/.local/lib/python3.9/site-packages/sklearn/utils/validation.py?line=982'>983</a>\u001b[0m \u001b[39mreturn\u001b[39;00m X, y\n",
      "File \u001b[0;32m~/.local/lib/python3.9/site-packages/sklearn/utils/validation.py:993\u001b[0m, in \u001b[0;36m_check_y\u001b[0;34m(y, multi_output, y_numeric)\u001b[0m\n\u001b[1;32m    <a href='file:///home/potz/.local/lib/python3.9/site-packages/sklearn/utils/validation.py?line=988'>989</a>\u001b[0m     y \u001b[39m=\u001b[39m check_array(\n\u001b[1;32m    <a href='file:///home/potz/.local/lib/python3.9/site-packages/sklearn/utils/validation.py?line=989'>990</a>\u001b[0m         y, accept_sparse\u001b[39m=\u001b[39m\u001b[39m\"\u001b[39m\u001b[39mcsr\u001b[39m\u001b[39m\"\u001b[39m, force_all_finite\u001b[39m=\u001b[39m\u001b[39mTrue\u001b[39;00m, ensure_2d\u001b[39m=\u001b[39m\u001b[39mFalse\u001b[39;00m, dtype\u001b[39m=\u001b[39m\u001b[39mNone\u001b[39;00m\n\u001b[1;32m    <a href='file:///home/potz/.local/lib/python3.9/site-packages/sklearn/utils/validation.py?line=990'>991</a>\u001b[0m     )\n\u001b[1;32m    <a href='file:///home/potz/.local/lib/python3.9/site-packages/sklearn/utils/validation.py?line=991'>992</a>\u001b[0m \u001b[39melse\u001b[39;00m:\n\u001b[0;32m--> <a href='file:///home/potz/.local/lib/python3.9/site-packages/sklearn/utils/validation.py?line=992'>993</a>\u001b[0m     y \u001b[39m=\u001b[39m column_or_1d(y, warn\u001b[39m=\u001b[39;49m\u001b[39mTrue\u001b[39;49;00m)\n\u001b[1;32m    <a href='file:///home/potz/.local/lib/python3.9/site-packages/sklearn/utils/validation.py?line=993'>994</a>\u001b[0m     _assert_all_finite(y)\n\u001b[1;32m    <a href='file:///home/potz/.local/lib/python3.9/site-packages/sklearn/utils/validation.py?line=994'>995</a>\u001b[0m     _ensure_no_complex_data(y)\n",
      "File \u001b[0;32m~/.local/lib/python3.9/site-packages/sklearn/utils/validation.py:1038\u001b[0m, in \u001b[0;36mcolumn_or_1d\u001b[0;34m(y, warn)\u001b[0m\n\u001b[1;32m   <a href='file:///home/potz/.local/lib/python3.9/site-packages/sklearn/utils/validation.py?line=1028'>1029</a>\u001b[0m         warnings\u001b[39m.\u001b[39mwarn(\n\u001b[1;32m   <a href='file:///home/potz/.local/lib/python3.9/site-packages/sklearn/utils/validation.py?line=1029'>1030</a>\u001b[0m             \u001b[39m\"\u001b[39m\u001b[39mA column-vector y was passed when a 1d array was\u001b[39m\u001b[39m\"\u001b[39m\n\u001b[1;32m   <a href='file:///home/potz/.local/lib/python3.9/site-packages/sklearn/utils/validation.py?line=1030'>1031</a>\u001b[0m             \u001b[39m\"\u001b[39m\u001b[39m expected. Please change the shape of y to \u001b[39m\u001b[39m\"\u001b[39m\n\u001b[0;32m   (...)\u001b[0m\n\u001b[1;32m   <a href='file:///home/potz/.local/lib/python3.9/site-packages/sklearn/utils/validation.py?line=1033'>1034</a>\u001b[0m             stacklevel\u001b[39m=\u001b[39m\u001b[39m2\u001b[39m,\n\u001b[1;32m   <a href='file:///home/potz/.local/lib/python3.9/site-packages/sklearn/utils/validation.py?line=1034'>1035</a>\u001b[0m         )\n\u001b[1;32m   <a href='file:///home/potz/.local/lib/python3.9/site-packages/sklearn/utils/validation.py?line=1035'>1036</a>\u001b[0m     \u001b[39mreturn\u001b[39;00m np\u001b[39m.\u001b[39mravel(y)\n\u001b[0;32m-> <a href='file:///home/potz/.local/lib/python3.9/site-packages/sklearn/utils/validation.py?line=1037'>1038</a>\u001b[0m \u001b[39mraise\u001b[39;00m \u001b[39mValueError\u001b[39;00m(\n\u001b[1;32m   <a href='file:///home/potz/.local/lib/python3.9/site-packages/sklearn/utils/validation.py?line=1038'>1039</a>\u001b[0m     \u001b[39m\"\u001b[39m\u001b[39my should be a 1d array, got an array of shape \u001b[39m\u001b[39m{}\u001b[39;00m\u001b[39m instead.\u001b[39m\u001b[39m\"\u001b[39m\u001b[39m.\u001b[39mformat(shape)\n\u001b[1;32m   <a href='file:///home/potz/.local/lib/python3.9/site-packages/sklearn/utils/validation.py?line=1039'>1040</a>\u001b[0m )\n",
      "\u001b[0;31mValueError\u001b[0m: y should be a 1d array, got an array of shape (74254, 3) instead."
     ]
    }
   ],
   "source": [
    "mod_dict_p3 = model_dict()"
   ]
  },
  {
   "cell_type": "code",
   "execution_count": null,
   "metadata": {},
   "outputs": [],
   "source": []
  }
 ],
 "metadata": {
  "interpreter": {
   "hash": "31f2aee4e71d21fbe5cf8b01ff0e069b9275f58929596ceb00d14d90e3e16cd6"
  },
  "kernelspec": {
   "display_name": "Python 3.9.7 64-bit",
   "language": "python",
   "name": "python3"
  },
  "language_info": {
   "codemirror_mode": {
    "name": "ipython",
    "version": 3
   },
   "file_extension": ".py",
   "mimetype": "text/x-python",
   "name": "python",
   "nbconvert_exporter": "python",
   "pygments_lexer": "ipython3",
   "version": "3.9.7"
  },
  "orig_nbformat": 4
 },
 "nbformat": 4,
 "nbformat_minor": 2
}
